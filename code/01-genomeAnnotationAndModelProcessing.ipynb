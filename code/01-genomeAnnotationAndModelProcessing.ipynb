{
 "cells": [
  {
   "cell_type": "markdown",
   "metadata": {},
   "source": [
    "# Reverse Ecology and Metatranscriptomics of Uncultivated Freshwater Actinobacteria"
   ]
  },
  {
   "cell_type": "markdown",
   "metadata": {},
   "source": [
    "## Genome Annotation\n",
    "\n",
    "KBase (http://kbase.us) is a powerful resource for obtaining genome-scale network reconstructions for microbial genomes. These reconstructions are distributed as SBML files, which must be processed prior to reverse ecology analysis. This notebook describes how to obtain reconstructions from KBase, and how to process them."
   ]
  },
  {
   "cell_type": "markdown",
   "metadata": {},
   "source": [
    "### Obtaining and Preparing SBML Files\n",
    "\n",
    "Briefly, genomes (as fasta files containing unannotated contigs) can be pushed from a computer to KBase. Once there, a KBase Narrative (iPython notebook) can be used to build reconstructions for your genomes. The script `code\\pushToKBase\\loadGenomes.pl` pushes these genomes to the KBase narratives created for this project. For more details, follow the instructions in `code/pushToKbase/README.md`.\n",
    "\n",
    "Genomes were pushed to four separate narratives:\n",
    "\n",
    "* SAGs: [KBase Narrative](https://narrative.kbase.us/narrative/ws.12259.obj.1), workspace ID: joshamilton:1452727482251\n",
    "\n",
    "* Mendota MAGs: [KBase Narrative](https://narrative.kbase.us/narrative/ws.12268.obj.1), workspace ID: joshamilton:1452793144933\n",
    "\n",
    "* Trout Bog MAGs [KBase Narrative](https://narrative.kbase.us/narrative/ws.12270.obj.1), workspace ID: joshamilton:1452798604003\n",
    "\n",
    "* MAGs from other research groups [KBase Narrative](https://narrative.kbase.us/narrative/ws.12271.obj.1), workspace ID: joshamilton:1452801292037\n",
    "\n",
    "Within each narrative, the \"Annotate Contigs\" and \"Build Metabolic Model\" KBase apps were run for each genome. Annotated genomes (Genbank format), and models (SBML and tsv formats) were downloaded for each genome and stored in:\n",
    "\n",
    "* `data/refGenomes` - genomes and annotations in a variety for formats\n",
    "* `models/rawModels` - metabolic models in SBML and 'tsv' formats\n",
    "\n",
    "Once the genomes were downloaded, the Genbank-formatted genomes were converted to fasta nucleotide (ffn), fasta amino acid (ffa), and gff format, using the scripts described below. All scripts are located in the `code/pushToKBase` directory:\n",
    "\n",
    "* No script given - For each genome, this script concatenates Genbank files for each indiviual scaffold, giving a single Genbank file for the genome.\n",
    "* kBaseGenbankToFasta.py - Converts Genbank files to fasta nucleotide (ffn), fasta amino acid (ffa) format.\n",
    "* kBaseGenbankToGff.py - Converts Genbank files to gff format.\n",
    "* cleanUpGFF.pl - Performs some additional processing on the gff files.\n",
    "* No script given - KBase SBML and 'tsv' file names were simplified."
   ]
  },
  {
   "cell_type": "markdown",
   "metadata": {},
   "source": [
    "### Processing SBML Files\n",
    "\n",
    "Reconstructions from KBase require further processing before they are suitable for use in reverse ecology. These processing steps include:\n",
    "\n",
    "1. Reformat gene locus tags, for compatability with the CobraPy software package\n",
    "2. Remove biomass, exchange, transport, spontaneous, DNA/RNA biosynthesis reactions and their corresponding genes\n",
    "3. Import metabolite formulas\n",
    "4. Check mass- and charge-balancing of reactions in the reconstruction\n",
    "5. Reformat reaction and metabolite names, for compatability with the cobrapy software package\n",
    "\n",
    "A note about post-processing: When KBase detects that one or more subunits of a complex are present, it creates a \"full\" GPR by adding 'Unknown' genes for the other subunits. At the time of analysis, CobraPy lakced functions to remove these genes. As such, these models should not be used to perform any simulations which rely on GPRs.\n",
    "\n",
    "As output, the code returns processed SBML files in the 'processedDataDir' folder. It also returns a summary of the model sizes, in the 'summaryStatsDir' folder.\n",
    "\n",
    "The first chunk of code imports the Python packages necessary for this analysis, and the second calls the function which processes each SBML file and preps it for analysis."
   ]
  },
  {
   "cell_type": "code",
   "execution_count": null,
   "metadata": {
    "collapsed": false
   },
   "outputs": [],
   "source": [
    "# Import Python modules \n",
    "# These custom-written modules should have been included with the package\n",
    "# distribution. \n",
    "from reverseEcology import sbmlFunctions as sf\n",
    "\n",
    "# Define local folder structure for data input and processing.\n",
    "rawModelDir = '../models/rawModels'\n",
    "processedDataDir = '../models/processedModels'\n",
    "summaryStatsDir = '../data/modelStats'"
   ]
  },
  {
   "cell_type": "code",
   "execution_count": null,
   "metadata": {
    "collapsed": false
   },
   "outputs": [],
   "source": [
    "sf.processSBMLforRE(rawModelDir, processedDataDir, summaryStatsDir)"
   ]
  },
  {
   "cell_type": "markdown",
   "metadata": {},
   "source": [
    "### Pruning Currency Metabolites\n",
    "\n",
    "The next step is to prune currency metabolites from the metabolic network, in order for the network's directed graph to better reflect physiological metabolic transformations. The approach is similar to one outlined by Ma et al [1,2], and later adopted by Borenstein et al [3].\n",
    "\n",
    "Briefly, \"currency metabolites\" are defined as metabolites which serve to transfer functional groups (such as ATP), as well as the functional groups themselves (such as phosphorous). To identify such metabolites in KBase, we scanned the ModelSEED [reaction database](https://github.com/ModelSEED/ModelSEEDDatabase/blob/master/Biochemistry/reactions.master.tsv) for metabolites listed in Ma et al [1,2], with the addition of cytochromes and quinones (H+ transfer) and acetyl-CoA/CoA (acetate transfer). The full set of such metabolites are included in the [reverseEcology](https://pypi.org/project/reverseEcology/) Python package.\n",
    "\n",
    "The function below updates the stoichiometry of all reactions containing these metabolites.\n",
    "1. First, all pairs of currency metabolites are removed. The set of such pairs is included in the [reverseEcology](https://pypi.org/project/reverseEcology/) Python package, in the file `packageData\\currencyRemovePairs.txt`. \n",
    "2. Some currency pairs involved in amino acid metabolism are subject to additional scrutiny, and removed only if a free amino group does not participate in the reaction. This ensures that reactions which synthesize these compounds are retained. The set of such pairs is included in the [reverseEcology](https://pypi.org/project/reverseEcology/) Python package, in the file `packageData\\currencyAminoPairs.txt`.\n",
    "3. Finally, all metabolites which represent free forms of functional groups are removed (H+, NH4+, CO2, O2, H2O, etc). The set of such pairs is included in the [reverseEcology](https://pypi.org/project/reverseEcology/) Python package, in the file `packageData\\currencyRemoveSingletons.txt`. \n",
    "\n",
    "The script below loops over the set of processed models and removes these metabolites from their associated reactions."
   ]
  },
  {
   "cell_type": "code",
   "execution_count": null,
   "metadata": {
    "collapsed": false
   },
   "outputs": [],
   "source": [
    "# Import Python modules \n",
    "# These custom-written modules should have been included with the package\n",
    "# distribution. \n",
    "from reverseEcology import sbmlFunctions as sf\n",
    "\n",
    "# Define local folder structure for data input and processing.\n",
    "modelDir = '../models/processedModels'\n",
    "summaryStatsDir = '../data/modelStats'\n",
    "\n",
    "sf.pruneCurrencyMetabs(modelDir, summaryStatsDir)"
   ]
  },
  {
   "cell_type": "markdown",
   "metadata": {},
   "source": [
    "## Genome Merging\n",
    "\n",
    "### Converting KBase SBML files to Graphs\n",
    "\n",
    "The first step in reverse ecology analysis is to convert the SBML representation of the metabolic network to a graph. The network is represented as a directed graph, where nodes denote compounds and edges denote reactions. A directed edge from A to B indicates that compound A is a substrate in a reaction which produces compound B. That is, for a given reaction, all the nodes that represent its substrates are connected by directed edges to all the nodes that represent its products.\n",
    "\n",
    "The code below converts the SBML representations to metabolic network graphs."
   ]
  },
  {
   "cell_type": "code",
   "execution_count": null,
   "metadata": {
    "collapsed": false
   },
   "outputs": [],
   "source": [
    "# Import Python modules \n",
    "# These custom-written modules should have been included with the package\n",
    "# distribution. \n",
    "from reverseEcology import metadataFunctions as mf\n",
    "from reverseEcology import sbmlFunctions as sf\n",
    "\n",
    "# Define local folder structure for data input and processing.\n",
    "modelDir = '../models/processedModels'\n",
    "summaryStatsDir = '../data/modelStats'\n",
    "\n",
    "# Import the list of models\n",
    "dirList = mf.getDirList(modelDir)\n",
    "\n",
    "modelStatArray = sf.dirListToAdjacencyList(dirList, modelDir, summaryStatsDir)"
   ]
  },
  {
   "cell_type": "markdown",
   "metadata": {},
   "source": [
    "### Merging Network Graphs Belonging to the Same Clade\n",
    "\n",
    "As shown by Borenstein et al [3], reverse ecology analysis is sensitive to genome incompleteness. To overcome this issue, we decided to merge metabolic models of all those genomes belonging to a particular clade.\n",
    "\n",
    "The process begins with a single genome from that clade. For the next genome from that clade, unique metabolic pathways are identified. Those unique pathways are appended to the original graph, giving a metabolic network graph which contains the content of both genomes. The process is repeated, with unique metabolic pathways being appended to the composite network graph until all genomes have been exhausted.\n",
    "\n",
    "Reverse ecology analysis will then be performed on these merged models."
   ]
  },
  {
   "cell_type": "markdown",
   "metadata": {},
   "source": [
    "The code below creates the necessary folder structure. Then, it reads in the taxonomy {lineage, clade, tribe} for each genomes and aggregates all genomes belonging to the same tribe."
   ]
  },
  {
   "cell_type": "code",
   "execution_count": null,
   "metadata": {
    "collapsed": true
   },
   "outputs": [],
   "source": [
    "# Import Python modules \n",
    "# These custom-written modules should have been included with the package\n",
    "# distribution. \n",
    "from reverseEcology import metadataFunctions as mf\n",
    "from reverseEcology import graphFunctions as gf\n",
    "\n",
    "# Define local folder structure for data input and processing.\n",
    "genomeModelDir = '../models/processedModels'\n",
    "mergedModelDir = '../models/merged'\n",
    "externalDataDir = '../data/externalData'\n",
    "taxonomyFile= externalDataDir+'/taxonomy.csv'"
   ]
  },
  {
   "cell_type": "code",
   "execution_count": null,
   "metadata": {
    "collapsed": false
   },
   "outputs": [],
   "source": [
    "mergeLevel = 'Clade'\n",
    "cladeSampleDict =  mf.importTaxonomy(taxonomyFile, mergeLevel)\n",
    "gf.createMergedGraph(cladeSampleDict, mergedModelDir, genomeModelDir)"
   ]
  },
  {
   "cell_type": "markdown",
   "metadata": {
    "collapsed": true
   },
   "source": [
    "### References\n",
    "1. Ma, H., & Zeng, A. P. (2003). Reconstruction of metabolic networks from genome data and analysis of their global structure for various organisms. Bioinformatics, 19(2), 270–277. http://doi.org/10.1093/bioinformatics/19.2.270\n",
    "2. Ma, H. W., & Zeng, A.-P. (2003). The connectivity structure, giant strong component and centrality of metabolic networks. Bioinformatics, 19(11), 1423–1430. http://doi.org/10.1093/bioinformatics/btg177\n",
    "3. Borenstein, E., Kupiec, M., Feldman, M. W., & Ruppin, E. (2008). Large-scale reconstruction and phylogenetic analysis of metabolic environments. Proceedings of the National Academy of Sciences, 105(38), 14482–14487. http://doi.org/10.1073/pnas.0806162105"
   ]
  },
  {
   "cell_type": "code",
   "execution_count": null,
   "metadata": {
    "collapsed": true
   },
   "outputs": [],
   "source": []
  }
 ],
 "metadata": {
  "kernelspec": {
   "display_name": "Python 2",
   "language": "python",
   "name": "python2"
  },
  "language_info": {
   "codemirror_mode": {
    "name": "ipython",
    "version": 2
   },
   "file_extension": ".py",
   "mimetype": "text/x-python",
   "name": "python",
   "nbconvert_exporter": "python",
   "pygments_lexer": "ipython2",
   "version": "2.7.10"
  }
 },
 "nbformat": 4,
 "nbformat_minor": 0
}
