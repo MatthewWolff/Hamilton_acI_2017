{
 "cells": [
  {
   "cell_type": "markdown",
   "metadata": {},
   "source": [
    "# Reverse Ecology and Metatranscriptomics of Uncultivated Freshwater Actinobacteria"
   ]
  },
  {
   "cell_type": "markdown",
   "metadata": {},
   "source": [
    "## Calculating Seed Sets"
   ]
  },
  {
   "cell_type": "markdown",
   "metadata": {},
   "source": [
    "### Overview of Reverse Ecology\n",
    "\n",
    "The term reverse ecology refer to a set of computational techniques which aim to infer the ecological traits of an organism directly from its metabolic network. The \"flavor\" of reverse ecology used in this work relies on the computation of a metabolic network's seed sets, the minimal set of metabolites which must be exogenously acquired for growth. Seed compounds will reveal auxotrophies and biosynthetic capabilities that define metabolic phenotypes for each clade. The approach for calculating seed sets used here follows the original theory of Borenstein et al [2008]."
   ]
  },
  {
   "cell_type": "markdown",
   "metadata": {},
   "source": [
    "Reverse ecology represents metabolic networks as graphs (a type of mathematical object). A graph consists of a set of objects (nodes) that are connected to one another (via edges). Graphs may be directed or undirected. In an undirected graph, a connection from A to B implies a connection from B to A. In a directed graph, edges point from A to B and not vice-versa. Metabolic networks are represented as directed graphs."
   ]
  },
  {
   "cell_type": "markdown",
   "metadata": {},
   "source": [
    "### Analyzing Metabolic Network Graphs"
   ]
  },
  {
   "cell_type": "markdown",
   "metadata": {},
   "source": [
    "In graph theory, a connected component of a graph is a subgraph in which all pairs of vertices are connected to each other by paths, and which has no connections to nodes outside the subgraph. \n",
    "\n",
    "A graph which has only a single component is fully connected. The seed-detection algorithm used in reverse ecology analysis requires the metabolic network to contain a single, fully connected graph. \n",
    "\n",
    "The code below computes the connected components of the metabolic network graphs for each clade and makes a histogram."
   ]
  },
  {
   "cell_type": "code",
   "execution_count": null,
   "metadata": {
    "collapsed": false,
    "scrolled": true
   },
   "outputs": [],
   "source": [
    "# Import special features for iPython\n",
    "import matplotlib\n",
    "%matplotlib inline\n",
    "\n",
    "# Import Python modules \n",
    "# These custom-written modules should have been included with the package\n",
    "# distribution. \n",
    "from reverseEcology import metadataFunctions as mf\n",
    "from reverseEcology import graphFunctions as gf\n",
    "\n",
    "# Define local folder structure for data input and processing.\n",
    "mergedModelDir = '../models/merged'\n",
    "summaryStatsDir = '../data/mergedModelStats'\n",
    "\n",
    "# Import the list of models\n",
    "dirList = mf.getDirList(mergedModelDir)\n",
    "\n",
    "graphStatArray, diGraphStatArray = gf.computeGraphStats(dirList, mergedModelDir, summaryStatsDir)\n",
    "gf.plotGraphStats(graphStatArray)"
   ]
  },
  {
   "cell_type": "markdown",
   "metadata": {},
   "source": [
    "### Reducing Graphs to Their Largest Component\n",
    "\n",
    "The third histogram shows that the largest component of each graph contains at least 80% of the metabolites (nodes) in the graph. This gives two options: \"fill in\" the graph to make it fully connected (e.g., by adding reactions to the metabolic network), or perform reverse ecology analysis on the largest component. \n",
    "\n",
    "The code below reduces the graph for each clade to its largest component."
   ]
  },
  {
   "cell_type": "code",
   "execution_count": null,
   "metadata": {
    "collapsed": false
   },
   "outputs": [],
   "source": [
    "# Import Python modules \n",
    "# These custom-written modules should have been included with the package\n",
    "# distribution. \n",
    "from reverseEcology import metadataFunctions as mf\n",
    "from reverseEcology import graphFunctions as gf\n",
    "\n",
    "# Define local folder structure for data input and processing.\n",
    "mergedModelDir = '../models/merged'\n",
    "summaryStatsDir = '../data/mergedModelStats'\n",
    "\n",
    "# Import the list of models\n",
    "dirList = mf.getDirList(mergedModelDir)\n",
    "\n",
    "reducedGraphStatArray = gf.reduceToLargeComponent(dirList, mergedModelDir, summaryStatsDir)"
   ]
  },
  {
   "cell_type": "markdown",
   "metadata": {},
   "source": [
    "#### Computation of Seed Sets\n",
    "\n",
    "The seed set is the set of compounds that, based on metabolic network topology, are exogenously acquired for growth. Formally, the seed set of a network is the minimal subset of compounds (nodes) that cannot be synthesized from other compounds in the network, and whose presence in the environment permits the production of all other compounds in the network. In other words, the seed set of a network is a set of nodes from which all other nodes can be reached.\n",
    "\n",
    "The seed set detection algorithm decomposes the metabolic network into its strongly connected components (SCCs), sets of nodes such that each node is reachable from every other. This decomposition enables the seed set detection problem to be reduced to the problem of detecting source components in the condensation of the original network.\n",
    "\n",
    "To find the seed sets, each source component in the condensation is then expanded to its original nodes. Because each vertex of the condensation is an SCC of the original graph, each vertex of the condensation contains a set of \"equivalent nodes\", meaning that each node can be reached from the others.\n",
    "\n",
    "Thus, the seed set detection algorithm contains four steps.\n",
    "1. Identify the SCCs of the (directed) network graph\n",
    "2. Use the SCCs to derive the condensation of the original graph\n",
    "3. Identify source components in the condensation\n",
    "4. Expand each source component of the condensation into its original node\n",
    "\n",
    "The code below performs the four steps shown above for the metabolic network graph of each genome. The seed compounds for each graph are written to a file, with each line in the file containing a set of equivalent seed compounds. The code also plots histograms of the number and size of the seed sets against network size."
   ]
  },
  {
   "cell_type": "code",
   "execution_count": null,
   "metadata": {
    "collapsed": false
   },
   "outputs": [],
   "source": [
    "# Import special features for iPython\n",
    "import matplotlib\n",
    "%matplotlib inline\n",
    "\n",
    "# Import Python modules \n",
    "# These custom-written modules should have been included with the package\n",
    "# distribution. \n",
    "from reverseEcology import metadataFunctions as mf\n",
    "from reverseEcology import graphFunctions as gf\n",
    "\n",
    "# Define local folder structure for data input and processing.\n",
    "mergedModelDir = '../models/merged'\n",
    "seedDir = '../results/seedCompounds'\n",
    "\n",
    "# Import the list of models\n",
    "dirList = mf.getDirList(mergedModelDir)\n",
    "\n",
    "seedSetList = gf.computeSeedSets(dirList, mergedModelDir, seedDir)\n",
    "gf.plotSeedStatsForTribes(seedSetList, reducedGraphStatArray)"
   ]
  },
  {
   "cell_type": "markdown",
   "metadata": {},
   "source": [
    "#### Working with Seed Sets\n",
    "\n",
    "To facilitate analysis, the functions below:\n",
    "- write a single matrix for seed compounds for all genomes\n",
    "- compute the fraction of genomes in which each seed compound appears"
   ]
  },
  {
   "cell_type": "code",
   "execution_count": null,
   "metadata": {
    "collapsed": false,
    "scrolled": false
   },
   "outputs": [],
   "source": [
    "# Import Python modules \n",
    "# These custom-written modules should have been included with the package\n",
    "# distribution. \n",
    "from reverseEcology import metadataFunctions as mf\n",
    "from reverseEcology import seedFunctions as ef\n",
    "\n",
    "# Define local folder structure for data input and processing.\n",
    "seedDir = '../results/seedCompounds'\n",
    "summaryStatsDir = '../results/seedCompounds'\n",
    "\n",
    "# Import the list of models\n",
    "dirList = mf.getDirList(seedDir)\n",
    "dirList.remove('seedMatrixWeighted.csv') # May be present from a previous run\n",
    "\n",
    "seedMatrixDF = ef.consolidateSeeds(dirList, seedDir, summaryStatsDir)"
   ]
  },
  {
   "cell_type": "markdown",
   "metadata": {
    "collapsed": true
   },
   "source": [
    "### References\n",
    "\n",
    "1. Borenstein, E., Kupiec, M., Feldman, M. W., & Ruppin, E. (2008). Large-scale reconstruction and phylogenetic analysis of metabolic environments. Proceedings of the National Academy of Sciences, 105(38), 14482–14487. http://doi.org/10.1073/pnas.0806162105"
   ]
  },
  {
   "cell_type": "code",
   "execution_count": null,
   "metadata": {
    "collapsed": true
   },
   "outputs": [],
   "source": []
  }
 ],
 "metadata": {
  "kernelspec": {
   "display_name": "Python 2",
   "language": "python",
   "name": "python2"
  },
  "language_info": {
   "codemirror_mode": {
    "name": "ipython",
    "version": 2
   },
   "file_extension": ".py",
   "mimetype": "text/x-python",
   "name": "python",
   "nbconvert_exporter": "python",
   "pygments_lexer": "ipython2",
   "version": "2.7.10"
  }
 },
 "nbformat": 4,
 "nbformat_minor": 0
}
