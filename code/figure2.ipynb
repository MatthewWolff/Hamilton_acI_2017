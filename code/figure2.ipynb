{
 "cells": [
  {
   "cell_type": "markdown",
   "metadata": {},
   "source": [
    "# Reverse Ecology and Metatranscriptomics of Uncultivated Freshwater Actinobacteria"
   ]
  },
  {
   "cell_type": "markdown",
   "metadata": {},
   "source": [
    "### Preliminaries\n",
    "\n",
    "This figures requires the user to have run our complete pipeline, including mapping of metatranscriptomic reads. This pipeline encompasses the following files:\n",
    "\n",
    "    code/01-genomeAnnotationAndModelProcessing.ipynb\n",
    "    code/02-calculateSeedCompounds.ipynb\n",
    "    code/03-integrateREwithMTs.ipynb"
   ]
  },
  {
   "cell_type": "markdown",
   "metadata": {},
   "source": [
    "## Figure 3c: Metatranscriptomics of Clade acI-C"
   ]
  },
  {
   "cell_type": "markdown",
   "metadata": {},
   "source": [
    "### Overview\n",
    "\n",
    "In the outer circle, this panel shows the Average Log2 RPKM for each COG in the composite acI-C genome. The inner circles show the presence/absence of each COG in each of the acI-C genomes. The visualization was constructed using [Anvio](http://merenlab.org/software/anvio/).\n",
    "\n",
    "To create the visualization, the following command is run from with anvio:\n",
    "\n",
    "    anvi-interactive -p profile.db -t tree.txt -d view_data.txt -A additional_view_data.txt --manual --title \"Average RPKM of the acI-C Composite Genome\"\n",
    "\n",
    "where the files are:\n",
    "    * profile.db - profile file\n",
    "    * tree.txt - phylogenetic tree giving clustering of the COGs\n",
    "    * view_data.txt - presence/absence of COG in each genome\n",
    "    * additional_view_data.txt - Average Log2 RPKM for each COG\n",
    "\n",
    "Thus, creating the visualization requires the following steps:\n",
    "\n",
    "1. Creation of view_data.txt\n",
    "2. Creation of additional_view_data.txt\n",
    "3. Creation of tree.txt\n",
    "4. Visualization!\n",
    "\n",
    "The visualization was then manually touched up using Adobe Illustrator."
   ]
  },
  {
   "cell_type": "markdown",
   "metadata": {},
   "source": [
    "### Step 0: Import Packages and Initialize Variables"
   ]
  },
  {
   "cell_type": "code",
   "execution_count": 1,
   "metadata": {
    "collapsed": false
   },
   "outputs": [
    {
     "name": "stdout",
     "output_type": "stream",
     "text": [
      "Once deleted, variables cannot be recovered. Proceed (y/[n])? y\n"
     ]
    }
   ],
   "source": [
    "%reset\n",
    "################################################################################\n",
    "### Import packages\n",
    "################################################################################\n",
    "\n",
    "import os\n",
    "import pandas as pd\n",
    "from scipy.spatial import distance as dist\n",
    "from scipy.cluster import hierarchy as sch\n",
    "\n",
    "################################################################################\n",
    "### Define folder structure\n",
    "################################################################################\n",
    "\n",
    "externalDataDir = '../data/externalData'\n",
    "taxonFile = externalDataDir+'/taxonomy.csv'\n",
    "orthomclDir = '../data/orthoMCL'\n",
    "resultsDir = '../results/'\n",
    "exprDir = resultsDir+'/expression'\n",
    "\n",
    "figureDir = '../figures/fig3-workflow'\n",
    "\n",
    "taxonLevel = 'Clade'\n",
    "clade = 'acI-C'\n",
    "\n",
    "# Check that figureDir exists, results will be placed there\n",
    "if not os.path.exists(figureDir):\n",
    "    os.makedirs(figureDir)\n",
    "\n",
    "################################################################################\n",
    "### Create list of genomes in the specified clade\n",
    "################################################################################\n",
    "\n",
    "# Define a function to import taxonomy files\n",
    "def importTaxonomy(taxonFile, level):\n",
    "\n",
    "# Read in the taxonomic classification\n",
    "    taxonClass = pd.DataFrame.from_csv(taxonFile, sep=',')\n",
    "    taxonClass = taxonClass.dropna()\n",
    "    \n",
    "# Extract the unique tribes found in the dataset\n",
    "    groupList = pd.unique(taxonClass[level].values)\n",
    "    groupList.sort(axis=0)\n",
    "    groupList = [ group for group in groupList if not group.startswith('Unknown') ]\n",
    "    \n",
    "# For each tribe, return the list of samples. Creates a dict and adds an entry\n",
    "# for each tribe.\n",
    "    groupSampleDict = {}\n",
    "\n",
    "    for group in groupList:\n",
    "\n",
    "# Identify the samples belonging to this tribe\n",
    "        samples = taxonClass.loc[taxonClass[level] == group]\n",
    "        samples = [sample for sample in samples.index]\n",
    "        groupSampleDict[group] = samples\n",
    "        \n",
    "    return groupSampleDict\n",
    "    \n",
    "genomeSampleDict = importTaxonomy(taxonFile, taxonLevel)\n",
    "\n",
    "genomeList = genomeSampleDict[clade]"
   ]
  },
  {
   "cell_type": "markdown",
   "metadata": {},
   "source": [
    "### Step 1: Creation of view_data.txt"
   ]
  },
  {
   "cell_type": "code",
   "execution_count": 2,
   "metadata": {
    "collapsed": true
   },
   "outputs": [],
   "source": [
    "# Determine the set of COGs found within the specified clade\n",
    "# Read in the cog table. Subset columns belonging to the clade. Subset rows\n",
    "# with COGs in that clade.\n",
    "cogTable = pd.read_csv(orthomclDir+'/cogTable.csv', delimiter=',', index_col=0)\n",
    "cogTable = cogTable[genomeList]\n",
    "cogTable = cogTable[~pd.isnull(cogTable).all(axis=1)]\n",
    "\n",
    "# Replace CDS with '1' and 'nan' with 0\n",
    "cogTable = cogTable.fillna(0)        \n",
    "cogTable = cogTable.replace(to_replace='.+', value='1', regex=True)\n",
    "\n",
    "# Make index a column and rearrange. Anvio requires the first row/column of \n",
    "# view data file to say 'contig'\n",
    "cogTable['contig'] = cogTable.index\n",
    "cogTable = cogTable[['contig']+genomeList]\n",
    "\n",
    "cogTable.to_csv(figureDir+'/view_data.txt', sep='\\t', index=False)"
   ]
  },
  {
   "cell_type": "markdown",
   "metadata": {},
   "source": [
    "### Step 2: Creation of additional_view_data.txt"
   ]
  },
  {
   "cell_type": "code",
   "execution_count": 3,
   "metadata": {
    "collapsed": true
   },
   "outputs": [],
   "source": [
    "# Determine the set of COGs found within the specified clade\n",
    "# Read in the cog table. Subset columns belonging to the clade. Subset rows\n",
    "# with COGs in that clade.\n",
    "cogTable = pd.read_csv(orthomclDir+'/cogTable.csv', delimiter=',', index_col=0)\n",
    "cogTable = cogTable[genomeList]\n",
    "cogTable = cogTable[~pd.isnull(cogTable).all(axis=1)]\n",
    "\n",
    "# Establish data table of RPKM values\n",
    "rpkmTable = pd.read_csv(exprDir+'/'+clade+'.norm', delimiter=',', index_col=1)\n",
    "rpkmTable = rpkmTable['Log2 Avg RPKM']\n",
    "\n",
    "# Create empty dataframe and populate with values from rpkmTable\n",
    "addlViewDataDF = pd.DataFrame(0, index=cogTable.index, columns=['log2_avg_rpkm'], dtype=float)\n",
    "for cog in addlViewDataDF.index:\n",
    "    if cog in rpkmTable.index:\n",
    "        addlViewDataDF.set_value(cog, 'log2_avg_rpkm', rpkmTable.loc[cog])\n",
    "        \n",
    "addlViewDataDF.to_csv(figureDir+'/additional_view_data.txt', sep='\\t')\n"
   ]
  },
  {
   "cell_type": "markdown",
   "metadata": {},
   "source": [
    "### Step 3: Creation of tree.txt"
   ]
  },
  {
   "cell_type": "code",
   "execution_count": 4,
   "metadata": {
    "collapsed": true
   },
   "outputs": [],
   "source": [
    "# Import the observations\n",
    "obsDF = pd.read_csv(figureDir+'/view_data.txt', sep='\\t', index_col=0)\n",
    "\n",
    "leafNames = obsDF.index.tolist()\n",
    "obsMatrix = obsDF.values\n",
    "\n",
    "# Compute the distance matrix\n",
    "distMatrix = dist.pdist(obsMatrix, metric='euclidean')\n",
    "\n",
    "# Compute the linkage matrix\n",
    "linkMatrix = sch.linkage(distMatrix, method='single', metric='euclidean')\n",
    "\n",
    "# Export the linakge matrix as a newick file\n",
    "# Stolen from StackOverflow: http://stackoverflow.com/questions/28222179/save-dendrogram-to-newick-format\n",
    "def getNewick(node, newick, parentdist, leaf_names):\n",
    "    if node.is_leaf():\n",
    "        return \"%s:%.2f%s\" % (leaf_names[node.id], parentdist - node.dist, newick)\n",
    "    else:\n",
    "        if len(newick) > 0:\n",
    "            newick = \"):%.2f%s\" % (parentdist - node.dist, newick)\n",
    "        else:\n",
    "            newick = \");\"\n",
    "        newick = getNewick(node.get_left(), newick, node.dist, leaf_names)\n",
    "        newick = getNewick(node.get_right(), \",%s\" % (newick), node.dist, leaf_names)\n",
    "        newick = \"(%s\" % (newick)\n",
    "        return newick\n",
    "\n",
    "tree = sch.to_tree(linkMatrix, False)\n",
    "newickTree = getNewick(tree, \"\", tree.dist, leafNames)\n",
    "\n",
    "# Write to file\n",
    "with open(figureDir+'/tree.txt', 'w') as outFileHandle:\n",
    "    outFileHandle.write(newickTree)"
   ]
  },
  {
   "cell_type": "markdown",
   "metadata": {},
   "source": [
    "### Step 4: Visualization\n",
    "\n",
    "The final step must be performed manually. In the terminal, navigate to the `figureDir` defined above. Launch Anvi'o via the command `anvio`. Then, type the command\n",
    "\n",
    "    anvi-interactive -p profile.db -t tree.txt -d view_data.txt -A additional_view_data.txt --manual --title \"Average RPKM of the acI-C Composite Genome\"\n",
    "    \n",
    "Change the `DrawAngle` to 360, press `Draw` in the Anvi'o window and save to svg format."
   ]
  }
 ],
 "metadata": {
  "kernelspec": {
   "display_name": "Python 2",
   "language": "python",
   "name": "python2"
  },
  "language_info": {
   "codemirror_mode": {
    "name": "ipython",
    "version": 2
   },
   "file_extension": ".py",
   "mimetype": "text/x-python",
   "name": "python",
   "nbconvert_exporter": "python",
   "pygments_lexer": "ipython2",
   "version": "2.7.10"
  }
 },
 "nbformat": 4,
 "nbformat_minor": 1
}
