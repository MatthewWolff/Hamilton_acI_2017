{
 "cells": [
  {
   "cell_type": "markdown",
   "metadata": {},
   "source": [
    "# Reverse Ecology and Metatranscriptomics of Uncultivated Freshwater Actinobacteria"
   ]
  },
  {
   "cell_type": "markdown",
   "metadata": {},
   "source": [
    "## Overview\n",
    "\n",
    "Many highly-expressed COGs were annotated as transport proteins. We used the metabolic network reconstructions for the acI genomes to systematically characterize the transport capabilities of the acI lineage. For each genome, we identified all transport reactions present in its metabolic network reconstruction. Gene-protein-reaction associations (GPRs) for these reactions were manually curated to remove unannotated proteins, group genes into operons (if applicable), and to identify missing subunits for multi-subunit transporters. These genes were then mapped to their corresponding COGs, and GPRs were grouped on the basis of their mapped COGs. Finally, consensus annotations within each clade were used to identify likely substrates for each of these groups.\n",
    "\n",
    "The script `code/annotTransporters/findGenesAnnotExpr.py` identifies all transport reactions, their GPRs and COGs, and the expression and annotation of each COG. The results are stored in `data/transporters/cladeCOGs/clade.COG.norm`, and were manually curated to give the transporters in Table S13."
   ]
  },
  {
   "cell_type": "code",
   "execution_count": null,
   "metadata": {
    "collapsed": true
   },
   "outputs": [],
   "source": []
  }
 ],
 "metadata": {
  "kernelspec": {
   "display_name": "Python 2",
   "language": "python",
   "name": "python2"
  },
  "language_info": {
   "codemirror_mode": {
    "name": "ipython",
    "version": 2
   },
   "file_extension": ".py",
   "mimetype": "text/x-python",
   "name": "python",
   "nbconvert_exporter": "python",
   "pygments_lexer": "ipython2",
   "version": "2.7.10"
  }
 },
 "nbformat": 4,
 "nbformat_minor": 0
}
