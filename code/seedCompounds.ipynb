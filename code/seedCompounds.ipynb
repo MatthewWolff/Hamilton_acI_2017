{
 "cells": [
  {
   "cell_type": "markdown",
   "metadata": {},
   "source": [
    "# Reverse Ecology and Metatranscriptomics of Uncultivated Freshwater Actinobacteria"
   ]
  },
  {
   "cell_type": "markdown",
   "metadata": {},
   "source": [
    "# Overview\n",
    "\n",
    "An organism's seed set contains all of the metabolites which cannot be synthesized by its metabolic network. They can represent auxotrophies, compounds which can be degraded, and (in many case) errors in the organism's metabolic network. Seed compounds were manually curated to identify those which may be biologically meaningful. Examples of each case (for the acI-C composite genome) will be discussed further below.\n",
    "\n",
    "Many seed compounds were also associated with reactions catalyzed by peptidases or glycoside hydrolases, and genes associated with these reactions were re-annotated. Peptidase sequences were annotated using the MEROPS batch BLAST interface. Glycoside hydrolases were first annotated using dbCAN to assign these genes to glycoside hydrolase families, and HMMER3  was used to assign these genes to individual sub-families using HMMs downloaded from dbCAN."
   ]
  },
  {
   "cell_type": "markdown",
   "metadata": {},
   "source": [
    "## Curation of Predicted Seed Compounds"
   ]
  },
  {
   "cell_type": "markdown",
   "metadata": {},
   "source": [
    "### Checking Compounds for Biological Plausability\n",
    "\n",
    "This section presents vignettes presenting the diverse ways in which seed compounds were manually curated.\n",
    "\n",
    "#### Homoserine Auxotrophy\n",
    "\n",
    "`L-Aspartate-4-semialdehyde`, `L-homoserine`, and `O-Phospho-L-homoserine` were identified as seed compounds. These three compounds can be interconverted via the following reactions:\n",
    "\n",
    "        Homoserine dehydrogenase: L-Aspartate-4-semialdehyde <--> L-homoserine\n",
    "        \n",
    "        Homoserine kinase: L-homoserine <--> O-Phospho-L-homoserine\n",
    "\n",
    "Because they can be freely interconverted, the three compounds are considered equivalent and any of them could be a seed. `Homoserine dehydrogenase` is the final step in homoserine biosynthesis, so these compounds suggest an auxotrophy for homoserine.\n",
    "\n",
    "#### Degradation of Peptides\n",
    "\n",
    "`Ala-Leu` and `gly-pro-L` were predicted to be seed compounds. The compounds are associated with the following reactions:\n",
    "\n",
    "        H2O + Ala-Leu --> L-Leucine + L-Alanine\n",
    "        \n",
    "        H2O + Gly-Pro --> Glycine + L-Proline\n",
    "        \n",
    "and the COGs were annotated as various peptidases. These seed compounds suggest the ability to degrade peptides.\n",
    "\n",
    "#### Carbamoyl phosphate: A result of network pruning heuristics\n",
    "\n",
    "Another putative seed compound was carbamoyl phosphate. Carbamoylphosphate synthase is the first step in arginine and pyrmidine biosynthesis, and catalyzes the reactions:\n",
    "\n",
    "    2 ATP + L-glutamine + hydrogen carbonate + H2O → L-glutamate + carbamoyl phosphate + 2 ADP + phosphate + 2 H+\n",
    "\n",
    "This reaction contains a number of currency metabolites (the P carriers ATP/ADP, the NH3-carriers glutamine and glutamate), as well as the single metabolites carbonate, water, phosphate and protons. All of these metaboliteswere removed from the network during pruning. Thus, all inward arcs to carbamoyl phosphate were removed, rendering it a seed compound. A quick inspection of the genome identified the gene for carbamoylphosphate synthase, confirming this hypothesis.\n",
    "\n",
    "#### Fatty acids: A network error\n",
    "\n",
    "Many putative seed compounds participate in fatty acid biosynthesis. For example, the pipeline predicted 26 R-enoyl-ACP compounds to be seed compounds. All 26 compounds were associated with a COG annotated as an `Enoyl-[acyl-carrier-protein] reductase [NADH] (EC 1.3.1.9)`, the enzyme which catalyzes the final step in fatty acid elongation. Fatty acid and lipid biosynthesis pathways are typically difficult to reconstruct automatically (e.g., using the Model SEED), and these compounds are highly unlikely to be seeds. For acI-C, a total of 29 of 73 putatitve seed compounds participate in fatty acid or lipid biosynthesis, so this is a huge problem!"
   ]
  },
  {
   "cell_type": "markdown",
   "metadata": {},
   "source": [
    "### Auxotrophies: Checking Genome Annotations and Pathway Completeness\n",
    "\n",
    "Automatic metabolic network reconstruction pipelines are prone to errors, such as missing/poor annotations, incorrect reaction assignments, etc. Thus, for each seed compound identified above, I manually inspected the genome for evidence for/against the prediction being a true positive. For the sake of brevity, some typical analyses are presented below. \n",
    "\n",
    "#### Auxotrophy for Homoserine\n",
    "\n",
    "As described above, the seed compound L-Aspartate-4-semialdehyde suggests an auxotrophy for homoserine. Homoserine biosynthesis occurs via the following reactions:\n",
    "\n",
    "    aspartate kinase: aspartate --> L-aspartyl-4-phosphate\n",
    "    aspartate semialdehyde dehydrogenase: L-aspartyl-4-phosphate --> L-Aspartate-4-semialdehyde\n",
    "    homoserine dehydrogenase: L-Aspartate-4-semialdehyde --> homoserine\n",
    "    \n",
    "The presence of L-Aspartate-4-semialdehyde as a seed compound suggests the reaction `aspartate semialdehyde dehydrogenase` is missing, and I am unable to identify a candidate gene for this reaction.  However, I can find the other two reactions in the pathway: aspartate kinase (group00288) and homoserine dehydrogenase (group00198), but not `aspartate semialdehyde dehydrogenase`. Thus, on the evidence available, I conclude acI-C is auxotrophic for homoserine.\n",
    "\n",
    "#### Auxotrophy for Threonine\n",
    "\n",
    "The seed compound L-arogenate suggests an auxotrophy for tyrosine. Tyrosine can be synthesized via the following route:\n",
    "\n",
    "    chorismate mutase: chorismate --> prephenate\n",
    "    prephenate aminotransferase: prephanate --> L-arogenate\n",
    "    arogenate dehydrogenase: L-arogenate --> L-tyrosine\n",
    "    \n",
    "L-arogenate was predicted to be a seed compound based on the presence of `arogenate dehydrogenase`, the final step in the pathways. The reaction `chorismate mutase` is also present, and I was unable to find a likely gene for `prephenate aminotransferase`.\n",
    "\n",
    "However, L-tyrosine can be synthesized from chorismate via an alternative pathway:\n",
    "\n",
    "    chorismate mutase: chorismate --> prephenate\n",
    "    prephenate dehydrogenase: prephenate --> 4-hydroxyphenylpyruvate\n",
    "    tyrosine aminotransferase: 4-hydroxyphenylpyruvate --> L-tyrosine\n",
    "    \n",
    "All three genes in this pathway are present in the genome, indicating acI-C is not auxotrophic for tyrosine."
   ]
  },
  {
   "cell_type": "markdown",
   "metadata": {},
   "source": [
    "### Degradation: Checking Genome Annotations\n",
    "\n",
    "#### Taurine\n",
    "\n",
    "The seed compound `aminoacetaldehyde` suggested the ability for acI-C to degrade `taurine`, for which `aminoacetaldehyde` is an intermediate. `Aminoacetaldehyde` degradation was predicted from three COG groups annotated as `aldehyde dehydrogenases`. I was unable to find any other reactions in the taurine degradation pathway, and BLAST-based annotations suggest these genes are probably `Acyl-CoA reductases`. So taurine is probably not degraded.\n",
    "\n",
    "#### Phospholipids\n",
    "\n",
    "Phospholipids were predicted to be seed compounds on the basis of a COG annotated as `Glycerophosphoryl diester phosphodiesterase.` The annotation seems correct, but this enzyme serves to internally recycle phospholipids. So it's probably not a seed compound."
   ]
  },
  {
   "cell_type": "markdown",
   "metadata": {},
   "source": [
    "### Degradation: Re-annotation of GHases and Peptidases\n",
    "\n",
    "The remaining potential degradation reactions occur via peptidases or glycoside hydrolases. These types of enzymes typically have broad specificity, while KBase indicates a narrow substrate specificy. We re-annotated all peptide-associated genes with [MEROPS](http://merops.sanger.ac.uk/) and all glycoside hydrolase associated genes with [dbCAN](http://csbl.bmb.uga.edu/dbCAN/index.php]) to obtain a better picture of these enzymes' substrate specificity."
   ]
  },
  {
   "cell_type": "markdown",
   "metadata": {},
   "source": [
    "#### Degradation Pathways: Annotating Peptidases using MEROPS\n",
    "\n",
    "KBase identified two peptidase reactions:\n",
    "\n",
    "        H2O + Ala-Leu --> L-Leucine + L-Alanine\n",
    "        \n",
    "        H2O + Gly-Pro --> Glycine + L-Proline\n",
    "        \n",
    "associated with four COG groups: `group00108`,  `group00018`, `group00328`, `group02654`,  Using protein sequences for genes in these COGs, I used the [MEROPS batch BLAST tool](http://merops.sanger.ac.uk/cgi-bin/batch_blast) to assign these COGs to peptidase families. In all cases, all genes within a COG were assigned to the same family. The results:\n",
    "\n",
    "COG | Peptidase Family | Description | Expression (%ile)\n",
    "----|------------------|-------------|-----------\n",
    "group00018 | M17 | Intracellular. Maximal activity between pH 9 and 9.5. Can cleave any n-terminal acid from di- and poly-peptides. Prefers leucine, no proline activity. | 90\n",
    "group00108 | M01 | Cleaves proteins and dipeptides. Capable of releasing a variety of residues. Can be both cytosolic and membrane-bound (w/ enzyme activity outside the cell). | 78\n",
    "group00328 | M24A | Intracellular, removes the initiating N-terminal methionine from newly synthesized proteins. | 58\n",
    "group02654 | None | None | \n",
    "\n",
    "Thus, I conclude that acI-C has the ability to degrade di- and poly-peptides."
   ]
  },
  {
   "cell_type": "markdown",
   "metadata": {},
   "source": [
    "#### Degradation Pathways: Annotating Glycoside Hydrolases using dbCAN\n",
    "\n",
    "KBase identified the following degradation reactions associated with seed compounds:\n",
    "\n",
    "Group | Substrate\n",
    "------|---------\n",
    "group00539 | Maltose\n",
    "group01023 | Cellobiose\n",
    "group01186 | Stachyose, Manninotriose\n",
    "group01316 | Maltose\n",
    "group01410 | Maltose\n",
    "\n",
    "Using protein sequences for genes in these COGs, I used the [dbCAN Annotation Website](http://csbl.bmb.uga.edu/dbCAN/annotate.php) to assign these COGs to glycoside hydrolase familes, as defined in the Carbohydrate-Active enZYmes Database [CAZY](http://www.cazy.org/). I then used Hidden Markov Models for these sub-families (downloaded from dbCAN), to assign these genes to individual sub-families using default parameters using HMMER3.\n",
    "\n",
    "In all cases, all genes within a COG were assigned to the same family. The results:\n",
    "\n",
    "COG | GH Family | Subfamily | Known Activities | Expression (%ile)\n",
    "----|-----------|-----------|------------------|-----------\n",
    "group00539 | GH13 | GH13-7 OR GH13-27 | 3.2.1.20 (alpha-glucosidase) or 3.2.1.28 (trehalose) | 65\n",
    "group01023 | GH1 | GH1-8 | 3.2.1.21 (beta-glucosidase), 3.2.1.23 (beta-galactosidase), 3.2.1.38 (beta-D-fucosidase) | 15\n",
    "group01186 | GH36 | GH36-4 | 3.2.1.22 (alpha-galactosidase) | 68\n",
    "group01316 | GH13 | GH13-104 | 3.2.1.1 (alpha-glucosidase) | 28\n",
    "group01410 | GH13 and CBM34 | GH13-20 | 3.2.1.20 (alpha-glucosidase) | 26\n",
    "\n",
    "In general, the annotations from KBase make sense within the GH families."
   ]
  },
  {
   "cell_type": "markdown",
   "metadata": {},
   "source": [
    "## Re-annotation of Transporters\n",
    "\n",
    "We also wanted to identify transporters capable of transporting the above compounds. Transporters may have varying specificities, their range of substrates may not be fully captured by KBase. Thus, I identified all COGs associated with transport reactions in the organism's network reconstruction, and re-annotated them using the [Transporter Classification Database](http://www.tcdb.org/)."
   ]
  },
  {
   "cell_type": "markdown",
   "metadata": {},
   "source": [
    "### Annotating Transporters using TCDB\n",
    "\n",
    "Briefly, I BLASTed protein sequences for genes in these COGs against the [TCDB reference datebase](http://www.tcdb.org/public/tcdb), and looked for multi-subunit transporters. These transporters can be identified by finding groups of COGs whose genes have similar annotations and for which genes co-localize in multiple genomes. \n",
    "\n",
    "For example, I propose the following three COGs to form a `N-Acetylglucosamine` transporter:\n",
    "\n",
    "Group | Bin_10 | MEint885 | MEint3864\n",
    "------|--------|----------|----------\n",
    "group00687 | BIN_10.genome.CDS.1117 | MEint885.genome.CDS.1711 | MEint3864.genome.CDS.1580\n",
    "group01642 | BIN_10.genome.CDS.1118\t| MEint885.genome.CDS.1710\t| MEint3864.genome.CDS.1579\n",
    "group01205 | BIN_10.genome.CDS.1119\t| MEint885.genome.CDS.1709 | MEint3864.genome.CDS.1578\n",
    "\n",
    "Each of the acI-C genomes contain three adjacent genes belonging to one of these three COGs.\n",
    "\n",
    "Genes | Best-BLAST Hit in TCDB | E-value\n",
    "------|------------------------|--------\n",
    "BIN_10.genome.CDS.1117 | 3.A.1.1.18 Transmembrane protein - Streptomyces olivaceoviridis (Streptomyces corchorusii) | 8.00E-53\n",
    "BIN_10.genome.CDS.1118 | 3.A.1.1.11 Inner membrane protein - Erwinia chrysanthemi | 5.00E-28\n",
    "BIN_10.genome.CDS.1119 | 3.A.1.1.28 Multiple sugar-binding protein precursor - Streptococcus mutans | 5.00E-28\n",
    "MEint885.genome.CDS.1711 | 3.A.1.1.18 Transmembrane protein - Streptomyces oliva ceoviridis (Streptomyces corchorusii) | 9.00E-54\n",
    "MEint885.genome.CDS.1710 | 3.A.1.1.11 Inner membrane protein - Erwinia chrysanthemi | 7.00E-47\n",
    "MEint885.genome.CDS.1709 | 3.A.1.1.28 Multiple sugar-binding protein precursor - Streptococcus mutans | 5.00E-05\n",
    "MEint3864.genome.CDS.1580 | 3.A.1.1.18 Transmembrane protein - Streptomyces olivaceoviridis (Streptomyces corchorusii) | 1.00E-55\n",
    "MEint3864.genome.CDS.1579 | 3.A.1.1.11 Inner membrane protein - Erwinia chrysanthemi | 2.00E-46\n",
    "MEint3864.genome.CDS.1578 | 3.A.1.1.28 Multiple sugar-binding protein precursor - Streptococcus mutans | 0.015\n",
    "\n",
    "The best hits are to a [transmembrane protein](http://www.tcdb.org/search/result.php?tc=3.A.1.1#3.A.1.1.18). This protein belongs to an `N-Acetylglucosamine/N,N'-diacetyl chitobiose porter` from an Actinobacteria. Thus, I conclude this is a NAG transporter."
   ]
  },
  {
   "cell_type": "markdown",
   "metadata": {},
   "source": [
    "## Limitations of Seed-Set Analysis\n",
    "\n",
    "I suspect that the network topology approach underlying seed set analysis has other limitations, because it does not take into account biological pathway organization. As a result, reverse ecology may fail to predict auxotrophies if the network enables non-biological biosynthetic routes.\n",
    "\n",
    "To investigate this, I used IMG genome annotations for two acI-C genomes, MEint885 and  MEint3864 to identify potential auxotrophies. IMG suggests auxotrophies for the following amino acids (not a comprehensive list):\n",
    "\n",
    "* Histidine\n",
    "* Iso-leucine\n",
    "* Lysine\n",
    "* Proline\n",
    "* Tyrosine\n",
    "\n",
    "Lysine was predicted as an auxotroph, but the other compounds were not. I want to identify the \"non-canonical\" route identified by reverse ecology for the synthesis of these compounds."
   ]
  },
  {
   "cell_type": "markdown",
   "metadata": {},
   "source": [
    "### Iso-Leucine Biosynthesis\n",
    "\n",
    "Iso-leucine is most commonly synthesized from threonine, via the following pathway. The enzyme for the first step is missing.\n",
    "\n",
    "Step | EC # | Reaction\n",
    "-----|------|---------\n",
    "1 | 4.3.1.19 | L-threonine --> (2Z)-2-aminobut-2-enoate --> 2-iminobutanoate --> 2-oxobutanoate\n",
    "2 | 2.2.1.6 | 2-oxobutanoate --> (S)-2-aceto-2-hydroxybutanoate\n",
    "3 | 1.1.1.86 | (S)-2-aceto-2-hydroxybutanoate --> (R)-2,3-dihydroxy-3-methylpentanoate\n",
    "4 | 4.2.1.9 | (R)-2,3-dihydroxy-3-methylpentanoate --> (S)-3-methyl-2-oxopentanoate\n",
    "5 | 2.6.1.42 | (S)-3-methyl-2-oxopentanoate --> L-isoleucine\n",
    "\n",
    "Thus, I would `anticipate 2-oxobutanoate` being predicted as a seed compound.\n",
    "\n",
    "Iso-leucine can also be synthesized from pyruvate via the following pathway. Figure 2 from Trevor's paper suggests acI uses this pathway. The enzyme for the second step is missing.\n",
    "\n",
    "Step | EC # | Reaction\n",
    "-----|------|---------\n",
    "1 | 2.3.1.182 | pyruvate --> R-citramalate\n",
    "2 | 4.2.1.35 | R-citramalate --> (2R,3S)-3-Methylmalate\n",
    "3 | 1.1.1.85 | (2R,3S)-3-Methylmalate --> 2-Oxobutanoate\n",
    "4 | 2.2.1.6 | 2-oxobutanoate --> (S)-2-aceto-2-hydroxybutanoate\n",
    "5 | 1.1.1.86 | (S)-2-aceto-2-hydroxybutanoate --> (R)-2,3-dihydroxy-3-methylpentanoate\n",
    "6 | 4.2.1.9 | (R)-2,3-dihydroxy-3-methylpentanoate --> (S)-3-methyl-2-oxopentanoate\n",
    "7 | 2.6.1.42 | (S)-3-methyl-2-oxopentanoate --> L-isoleucine\n",
    "\n",
    "Thus, I would anticipate `R-citramalate` to be predicted as a seed compound.\n",
    "\n",
    "Neither compound is predicted as a seed. So what is the route for `iso-leucine` biosynthesis?\n",
    "\n",
    "Using the `shortest_path` algorithm included as part of the `networkX` package, I computed the shortest path for `L-isoleucine` synthesis from both `pyruvate` and `threonine`. The path from `pyruvate` follows:\n",
    "\n",
    "Step | Reaction\n",
    "-----|---------\n",
    "A | Pyruvate --> 2-Hydroxyethyl-ThPP\n",
    "B | 2-Hydroxyethyl-ThPP --> (S)-2-aceto-2-hydroxybutanoate\n",
    "C | (S)-2-aceto-2-hydroxybutanoate --> (R)-2,3-dihydroxy-3-methylpentanoate\n",
    "D | (R)-2,3-dihydroxy-3-methylpentanoate --> (S)-3-methyl-2-oxopentanoate\n",
    "E | (S)-3-methyl-2-oxopentanoate --> L-isoleucine\n",
    "\n",
    "The path from synthesis from threonine includes two additional steps to convert threonine to pyruvate. In this route, steps C, D, and E are the same as steps 5, 6, 7 in the canonical pathway. With this route, the missing step is bypassed by directly converting pyruvate to `(S)-2-aceto-2-hydroxybutanoate` via `2-Hydroxyethyl-ThPP` instead of via the intermediates `citramalate`, `(2R,3S)-3-Methylmalate` and `2-Oxobutanoate`.\n",
    "\n",
    "I also investigated the shortest path from a seed compound. The synthesis route begins from the dipeptide Ala-Leu, which gets converted to pyruvate, then iso-leucine. \n",
    "\n",
    "The presence of alternative pathways reveals why `iso-leucine` was not identified as a seed compound."
   ]
  },
  {
   "cell_type": "code",
   "execution_count": null,
   "metadata": {
    "collapsed": true
   },
   "outputs": [],
   "source": []
  }
 ],
 "metadata": {
  "kernelspec": {
   "display_name": "Python 2",
   "language": "python",
   "name": "python2"
  },
  "language_info": {
   "codemirror_mode": {
    "name": "ipython",
    "version": 2
   },
   "file_extension": ".py",
   "mimetype": "text/x-python",
   "name": "python",
   "nbconvert_exporter": "python",
   "pygments_lexer": "ipython2",
   "version": "2.7.10"
  }
 },
 "nbformat": 4,
 "nbformat_minor": 0
}
